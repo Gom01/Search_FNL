{
 "cells": [
  {
   "cell_type": "markdown",
   "id": "60905bff-8910-4251-a0ee-2d8377a38748",
   "metadata": {},
   "source": [
    "# Algorithme TF-IDF\n",
    "\n",
    "Dans ce notebook, nous allons :\n",
    "\n",
    "- construire un vocabulaire à partir d'un petit ensemble de documents en utilisant le modèle \"Bag-of-Words\" (BoW).\n",
    "- calculer la fréquence de terme (TF) pour chaque mot dans chaque document.\n",
    "- calculer la fréquence inverse des documents (IDF) pour chaque mot dans l'ensemble des documents.\n",
    "- combiner TF et IDF pour obtenir le score TF-IDF pour chaque mot dans chaque document.\n",
    "\n",
    "L'objectif est de bien comprendre le fonctionnement de TF-IDF. \n",
    "\n",
    "Pour cela, <span style=\"background-color: yellow;\">vous devez implémenter les `# TODO`s dans le code, afin de passer les \"tests\" (`assert`)</span>\n",
    "\n",
    "Nous reprenons les 3 documents des slides. <span style=\"background-color: yellow;\">**Vous devriez obtenir les mêmes résultats que dans les slides.**</span>\n",
    "\n",
    "\n",
    "\n",
    "## Documents\n",
    "\n"
   ]
  },
  {
   "cell_type": "code",
   "execution_count": null,
   "id": "a14adac7-ed7a-4243-812b-46a48d1419ff",
   "metadata": {},
   "outputs": [],
   "source": [
    "import math\n",
    "\n",
    "documents = [\n",
    "    \"It is a dog.\",\n",
    "    \"my cat is old\",\n",
    "    \"It is not a dog, it a is wolf.\"\n",
    "]"
   ]
  },
  {
   "cell_type": "markdown",
   "id": "d4498a5e-de5b-4ffb-9213-e8a712d9e7fc",
   "metadata": {},
   "source": [
    "## Prétraitement (preprocessing / cleanup)"
   ]
  },
  {
   "cell_type": "code",
   "execution_count": null,
   "id": "15b64c8e-42cf-462b-b5aa-6b0fa469c61f",
   "metadata": {},
   "outputs": [],
   "source": [
    "def preprocess(txt:str) -> [str]:\n",
    "    '''\n",
    "    Convertir en minuscules et supprimer la ponctuation (points et virgules); séparer aux espaces\n",
    "    '''\n",
    "    return txt # TODO\n",
    "\n",
    "# \"tests\" à passer\n",
    "assert preprocess(\"Hello, world.\") == ['hello',  'world']\n",
    "assert preprocess(\"It is a dog.\") == ['it',  'is',  'a', 'dog']"
   ]
  },
  {
   "cell_type": "markdown",
   "id": "2ecd4530-a616-4908-b716-8c5401be509f",
   "metadata": {},
   "source": [
    "## Création du vocabulaire"
   ]
  },
  {
   "cell_type": "code",
   "execution_count": null,
   "id": "0a4949e2-dc11-43dc-a286-0578938616b0",
   "metadata": {},
   "outputs": [],
   "source": [
    "cleaned_docs = []\n",
    "vocabulary = set()\n",
    "\n",
    "for doc in documents:\n",
    "    words = # TODO\n",
    "    \n",
    "    # Ajouter les mots au vocabulaire\n",
    "    vocabulary.update(words)\n",
    "    cleaned_docs.append(words)\n",
    "\n",
    "# Trier le vocabulaire alphabétiquement\n",
    "vocabulary = sorted(list(vocabulary))\n",
    "\n",
    "print(f\"Vocabulaire :\\n {vocabulary}\")"
   ]
  },
  {
   "cell_type": "code",
   "execution_count": null,
   "id": "c5d713b5-a89a-4e71-9b12-2076425374a0",
   "metadata": {},
   "outputs": [],
   "source": [
    "assert vocabulary == ['a', 'cat', 'dog', 'is', 'it', 'my', 'not', 'old', 'wolf']\n",
    "\n",
    "assert cleaned_docs[0], ['it', 'is', 'a', 'dog']\n",
    "assert cleaned_docs[1], ['my', 'cat', 'is', 'old']\n",
    "assert cleaned_docs[2], ['it', 'is', 'not', 'a', 'dog', 'it', 'is', 'a', 'wolf']"
   ]
  },
  {
   "cell_type": "markdown",
   "id": "8b55f272-f5dd-440d-9465-8ab1453b735f",
   "metadata": {},
   "source": [
    "## Calcul de la matrice de fréquence des termes (Term Frequency - TF)"
   ]
  },
  {
   "cell_type": "code",
   "execution_count": null,
   "id": "2a051268-9ecb-4466-989a-ae6029f713cb",
   "metadata": {},
   "outputs": [],
   "source": [
    "# matrice de fréquence des termes, correspond à la slide \"Term Frequency (TF)\"\n",
    "term_frequencies = []  # contient 3 éléments qui correspondent aux 3 documents\n",
    "\n",
    "for i, doc_words in enumerate(cleaned_docs):\n",
    "    print(f'\\nDoc {i} =====================')\n",
    "    # dict qui stocke le nombre d'occurrences de chaque mot, pour ce document\n",
    "    word_counts = {}\n",
    "    for word in doc_words:\n",
    "        word_counts[word] = # TODO\n",
    "    print(f'word_counts: {word_counts}')\n",
    "    \n",
    "    # calculer TF pour chaque mot du vocabulaire\n",
    "    doc_tf = []\n",
    "    for word in vocabulary:\n",
    "        # calculer la fréquence (nombre d'occurrences / nombre total de mots)\n",
    "        tf = # TODO\n",
    "        doc_tf.append(round(tf, 3))\n",
    "\n",
    "    print(f'doc_tf: {doc_tf}')\n",
    "    term_frequencies.append(doc_tf)"
   ]
  },
  {
   "cell_type": "code",
   "execution_count": null,
   "id": "ed2c09a0-7fe8-4311-b1e1-2c6f55eb02bd",
   "metadata": {},
   "outputs": [],
   "source": [
    "assert term_frequencies[0] == [0.25, 0.0, 0.25, 0.25, 0.25, 0.0, 0.0, 0.0, 0.0]\n",
    "assert term_frequencies[1] == [0.0, 0.25, 0.0, 0.25, 0.0, 0.25, 0.0, 0.25, 0.0]\n",
    "assert term_frequencies[2] == [0.222, 0.0, 0.111, 0.222, 0.222, 0.0, 0.111, 0.0, 0.111]"
   ]
  },
  {
   "cell_type": "markdown",
   "id": "37ab518c-426a-4910-92b1-79d6f05479db",
   "metadata": {},
   "source": [
    "## Calcul de l'inverse de la fréquence des documents (Inverse Document Frequency - IDF)"
   ]
  },
  {
   "cell_type": "code",
   "execution_count": null,
   "id": "9c33bce3-436f-4119-b7ea-a5cf8399c292",
   "metadata": {},
   "outputs": [],
   "source": [
    "# nombre total de documents\n",
    "total_docs = # TODO\n",
    "\n",
    "# calculer l'IDF pour chaque mot\n",
    "idf_values = []\n",
    "for word in vocabulary:\n",
    "    # compter dans combien de documents le mot apparaît\n",
    "    docs_with_word = # TODO\n",
    "    \n",
    "    # calcul de l'IDF\n",
    "    idf = math.log10(# TODO)\n",
    "    \n",
    "    print(f'\"{word}\"\\t occurs {docs_with_word} times --> idf = {idf}')\n",
    "    idf_values.append(round(idf, 3))"
   ]
  },
  {
   "cell_type": "code",
   "execution_count": null,
   "id": "fad5ba50-184c-4a86-806c-707538684d68",
   "metadata": {},
   "outputs": [],
   "source": [
    "assert idf_values[0] == 0.176 # idf pour 'a'\n",
    "assert idf_values[1] == 0.477 # idf pour 'cat'\n",
    "assert idf_values[2] == 0.176 # idf pour 'dog'\n",
    "assert idf_values[3] == 0.0   # idf pour 'is'\n",
    "assert idf_values[4] == 0.176 # idf pour 'it'\n",
    "assert idf_values[5] == 0.477 # idf pour 'my'\n",
    "assert idf_values[6] == 0.477 # idf pour 'not'\n",
    "assert idf_values[7] == 0.477 # idf pour 'old'\n",
    "assert idf_values[8] == 0.477 # idf pour 'wolf'"
   ]
  },
  {
   "cell_type": "markdown",
   "id": "682e14d1-fc9a-4e3e-97c7-04ab85aade9d",
   "metadata": {},
   "source": [
    "# Calcul de TF-IDF"
   ]
  },
  {
   "cell_type": "code",
   "execution_count": null,
   "id": "b01fb48e-d423-4f0b-a06c-e43b2645e598",
   "metadata": {},
   "outputs": [],
   "source": [
    "# matrice de fréquence des termes, correspond à la slide \"Term Freq.-Inverse Doc. Freq (TF-IDF)\"\n",
    "tfidf_scores = []  # contient 3 éléments qui correspondent aux 3 documents\n",
    "\n",
    "for doc_tf in term_frequencies:\n",
    "    # calculer TF-IDF pour chaque mot du document\n",
    "    doc_tfidf = [TODO for tf, idf in zip(doc_tf, idf_values)]\n",
    "    tfidf_scores.append(doc_tfidf)\n",
    "\n",
    "print(\"\\nScores TF-IDF :\")\n",
    "for i, doc_tfidf in enumerate(tfidf_scores, 1):\n",
    "    print(f\"doc {i}: {doc_tfidf}\")"
   ]
  },
  {
   "cell_type": "code",
   "execution_count": null,
   "id": "7becb3fd-cf24-4142-8c50-55c93d616e48",
   "metadata": {},
   "outputs": [],
   "source": [
    "assert tfidf_scores[0] == [0.044, 0.0, 0.044, 0.0, 0.044, 0.0, 0.0, 0.0, 0.0]\n",
    "assert tfidf_scores[1] == [0.0, 0.119, 0.0, 0.0, 0.0, 0.119, 0.0, 0.119, 0.0]\n",
    "assert tfidf_scores[2] == [0.039, 0.0, 0.02, 0.0, 0.039, 0.0, 0.053, 0.0, 0.053]"
   ]
  },
  {
   "attachments": {},
   "cell_type": "markdown",
   "id": "62653482-407b-47a7-9d78-419107e95e2a",
   "metadata": {},
   "source": [
    "# Recherche et classement des documents\n",
    "\n",
    "Correspond aux slides \"Scoring and Ranking a query (using TF-IDF)\""
   ]
  },
  {
   "cell_type": "code",
   "execution_count": null,
   "id": "2d96eb6b-6f67-49f8-9382-30f1d81deec1",
   "metadata": {},
   "outputs": [],
   "source": [
    "def search_documents(query):\n",
    "    \"\"\"\n",
    "    Rechercher et classer les documents en fonction de la requête.\n",
    "    \"\"\"\n",
    "    cleaned_query = preprocess(query)  # important de réutiliser le même preprocessing qu'à l'indexation\n",
    "    print(f\"cleaned_query: {cleaned_query}\\n\")\n",
    "    \n",
    "    doc_scores = []\n",
    "\n",
    "    for j, doc_tfidf in enumerate(tfidf_scores):\n",
    "        # doc_tfidf represents the tf-idf scores for this document\n",
    "        print(f'tfidf scores pour document {j}: {doc_tfidf}')\n",
    "\n",
    "        doc_score = 0\n",
    "        for i, word in enumerate(vocabulary):\n",
    "            word_tf = # TODO\n",
    "            word_score = # TODO\n",
    "            print(f\"{word} contributes for {word_score}\")\n",
    "            doc_score += word_score\n",
    "        print(f'doc_score: {doc_score}\\n')\n",
    "        doc_scores.append(doc_score)\n",
    "    \n",
    "    # trier et afficher les scores\n",
    "    ranked_docs = sorted(enumerate(doc_scores, 1), key=lambda x: x[1], reverse=True)\n",
    "    for rank, (doc_index, score) in enumerate(ranked_docs, 1):\n",
    "        print(f\"Rang {rank}: doc {doc_index} (score: {score})\")\n",
    "\n",
    "    return ranked_docs\n",
    "\n",
    "\n",
    "ranking = search_documents(\"cat is wolf\")\n",
    "assert ranking == [(2, 0.119), (3, 0.053), (1, 0.0)]  # correspond aux slides \"Scoring and Ranking a query (using TF-IDF)"
   ]
  },
  {
   "cell_type": "code",
   "execution_count": null,
   "id": "cb4c49ba-cfb9-42d2-a472-623dace8e7a7",
   "metadata": {},
   "outputs": [],
   "source": [
    "ranking = search_documents(\"a cat is not a wolf\")\n",
    "assert ranking == [(3, 0.184), (2, 0.119), (1, 0.088)]  # correspond aux slides \"Scoring and Ranking a query (using TF-IDF)"
   ]
  },
  {
   "cell_type": "code",
   "execution_count": null,
   "id": "bb49990f-c018-457f-8843-ce4dca533d8a",
   "metadata": {},
   "outputs": [],
   "source": []
  }
 ],
 "metadata": {
  "kernelspec": {
   "display_name": "Python 3 (ipykernel)",
   "language": "python",
   "name": "python3"
  },
  "language_info": {
   "codemirror_mode": {
    "name": "ipython",
    "version": 3
   },
   "file_extension": ".py",
   "mimetype": "text/x-python",
   "name": "python",
   "nbconvert_exporter": "python",
   "pygments_lexer": "ipython3",
   "version": "3.12.1"
  }
 },
 "nbformat": 4,
 "nbformat_minor": 5
}
